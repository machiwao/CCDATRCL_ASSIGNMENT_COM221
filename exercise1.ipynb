{
  "cells": [
    {
      "cell_type": "markdown",
      "metadata": {
        "id": "view-in-github",
        "colab_type": "text"
      },
      "source": [
        "<a href=\"https://colab.research.google.com/github/machiwao/CCDATRCL_ASSIGNMENT_COM221/blob/main/exercise1.ipynb\" target=\"_parent\"><img src=\"https://colab.research.google.com/assets/colab-badge.svg\" alt=\"Open In Colab\"/></a>"
      ]
    },
    {
      "cell_type": "markdown",
      "metadata": {
        "id": "h2vFiYhGzZOg"
      },
      "source": [
        "# Exercise 1"
      ]
    },
    {
      "cell_type": "markdown",
      "source": [
        "## Class Initialization"
      ],
      "metadata": {
        "id": "sRm6kPQozcaU"
      }
    },
    {
      "cell_type": "code",
      "execution_count": null,
      "metadata": {
        "id": "b1u4Dt9mzZOi"
      },
      "outputs": [],
      "source": [
        "class Node:\n",
        "    def __init__(self, data):\n",
        "        self.data = data\n",
        "        self.next = None"
      ]
    },
    {
      "cell_type": "code",
      "execution_count": null,
      "metadata": {
        "id": "tigvHSaHzZOj"
      },
      "outputs": [],
      "source": [
        "class LinkedList:\n",
        "\n",
        "    def __init__(self):\n",
        "        self.head = None\n",
        "\n",
        "    def traverse(self, node):\n",
        "        while node:\n",
        "            print(node.data, end=\" -> \")\n",
        "            node = node.next"
      ]
    },
    {
      "cell_type": "code",
      "execution_count": null,
      "metadata": {
        "id": "LIkQBioVzZOk"
      },
      "outputs": [],
      "source": [
        "class DoublyLinkedList:\n",
        "\n",
        "    def __init__(self):\n",
        "        self.head = None\n",
        "\n",
        "    def traverse(self, node):\n",
        "        while node:\n",
        "            print(node.data, end=\" -> \")\n",
        "            node = node.next"
      ]
    },
    {
      "cell_type": "code",
      "execution_count": null,
      "metadata": {
        "id": "zlxNT5EozZOl"
      },
      "outputs": [],
      "source": [
        "class CircularLinkedList:\n",
        "\n",
        "    def __init__(self):\n",
        "        self.head = None\n",
        "\n",
        "    def traverse(self, node):\n",
        "\n",
        "        head = node\n",
        "\n",
        "        while node:\n",
        "            print(node.data, end=\" -> \")\n",
        "            node = node.next\n",
        "\n",
        "            # Break to prevent infinite loop\n",
        "            if node == head:\n",
        "                break"
      ]
    },
    {
      "cell_type": "markdown",
      "metadata": {
        "id": "O68-Q1-bzZOl"
      },
      "source": [
        "#### 1. Create a Singly Linked list\n",
        "\n",
        "- Each node should contain your name and your seatmates in your row\n",
        "- Create at least 5 nodes\n",
        "- Traverse all nodes"
      ]
    },
    {
      "cell_type": "code",
      "source": [
        "row2 = LinkedList()\n",
        "row2.head = Node(\"Gerick\")\n",
        "node_2 = Node(\"Franze\")\n",
        "node_3 = Node(\"Allen\")\n",
        "node_4 = Node(\"Gian\")\n",
        "node_5 = Node(\"Blix\")\n",
        "node_6 = Node(\"Tati\")\n",
        "node_7 = Node(\"Jerico\")"
      ],
      "metadata": {
        "id": "90JNX-dc0gUi"
      },
      "execution_count": null,
      "outputs": []
    },
    {
      "cell_type": "code",
      "source": [
        "row2.head.next = node_2\n",
        "node_2.next = node_3\n",
        "node_3.next = node_4\n",
        "node_4.next = node_5\n",
        "node_5.next = node_6\n",
        "node_6.next = node_7\n",
        "node_7.next = None"
      ],
      "metadata": {
        "id": "VH0qyiqi1wSH"
      },
      "execution_count": null,
      "outputs": []
    },
    {
      "cell_type": "code",
      "source": [
        "row2.traverse(row2.head)"
      ],
      "metadata": {
        "colab": {
          "base_uri": "https://localhost:8080/"
        },
        "id": "odlXFICZ2Pcv",
        "outputId": "6640430f-9141-41ce-9df3-2515527b2c3d"
      },
      "execution_count": null,
      "outputs": [
        {
          "output_type": "stream",
          "name": "stdout",
          "text": [
            "Gerick -> Franze -> Allen -> Gian -> Blix -> Tati -> Jerico -> "
          ]
        }
      ]
    },
    {
      "cell_type": "markdown",
      "metadata": {
        "id": "IFgwbdw_zZOm"
      },
      "source": [
        "#### 2. Create a Doubly Linked list\n",
        "\n",
        "- Each node should contain your name and your seatmates in your row\n",
        "- Create at least 5 nodes\n",
        "- Traverse all nodes"
      ]
    },
    {
      "cell_type": "code",
      "execution_count": null,
      "metadata": {
        "id": "8kQD2A_QzZOm"
      },
      "outputs": [],
      "source": [
        "class Node:\n",
        "    def __init__(self, data):\n",
        "        self.data = data\n",
        "        self.next = None\n",
        "        self.prev = None"
      ]
    },
    {
      "cell_type": "code",
      "source": [
        "row2 = DoublyLinkedList()\n",
        "row2.head = Node(\"Gerick\")\n",
        "node_2 = Node(\"Franze\")\n",
        "node_3 = Node(\"Allen\")\n",
        "node_4 = Node(\"Gian\")\n",
        "node_5 = Node(\"Blix\")\n",
        "node_6 = Node(\"Tati\")\n",
        "node_7 = Node(\"Jerico\")"
      ],
      "metadata": {
        "id": "gAHcQ6Jv2W8W"
      },
      "execution_count": null,
      "outputs": []
    },
    {
      "cell_type": "code",
      "source": [
        "row2.head.prev = None\n",
        "row2.head.next = node_2\n",
        "\n",
        "node_2.prev = row2.head\n",
        "node_2.next = node_3\n",
        "\n",
        "node_3.prev = node_2\n",
        "node_3.next = node_4\n",
        "\n",
        "node_4.prev = node_3\n",
        "node_4.next = node_5\n",
        "\n",
        "node_5.prev = node_4\n",
        "node_5.next = node_6\n",
        "\n",
        "node_6.prev = node_5\n",
        "node_6.next = node_7\n",
        "\n",
        "node_7.prev = node_6\n",
        "node_7.next = None"
      ],
      "metadata": {
        "id": "u5APsiL526BV"
      },
      "execution_count": null,
      "outputs": []
    },
    {
      "cell_type": "code",
      "source": [
        "row2.traverse(row2.head)"
      ],
      "metadata": {
        "colab": {
          "base_uri": "https://localhost:8080/"
        },
        "id": "5dP7J6b43aRL",
        "outputId": "7f2502eb-bc1a-4f89-ef43-527ef3bd5619"
      },
      "execution_count": null,
      "outputs": [
        {
          "output_type": "stream",
          "name": "stdout",
          "text": [
            "Gerick -> Franze -> Allen -> Gian -> Blix -> Tati -> Jerico -> "
          ]
        }
      ]
    },
    {
      "cell_type": "markdown",
      "metadata": {
        "id": "rtApbsCjzZOm"
      },
      "source": [
        "#### 3. Create a Circular Linked list\n",
        "\n",
        "- Each node should contain your name and your seatmates in your row\n",
        "- Create at least 5 nodes\n",
        "- Traverse all nodes"
      ]
    },
    {
      "cell_type": "code",
      "source": [
        "class Node:\n",
        "    def __init__(self, data):\n",
        "        self.data = data\n",
        "        self.next = None"
      ],
      "metadata": {
        "id": "v7iaSw5v048r"
      },
      "execution_count": null,
      "outputs": []
    },
    {
      "cell_type": "code",
      "source": [
        "row2 = CircularLinkedList()\n",
        "row2.head = Node(\"Gerick\")\n",
        "node_2 = Node(\"Franze\")\n",
        "node_3 = Node(\"Allen\")\n",
        "node_4 = Node(\"Gian\")\n",
        "node_5 = Node(\"Blix\")\n",
        "node_6 = Node(\"Tati\")\n",
        "node_7 = Node(\"Jerico\")"
      ],
      "metadata": {
        "id": "cNuCRs992p3N"
      },
      "execution_count": null,
      "outputs": []
    },
    {
      "cell_type": "code",
      "source": [
        "row2.head.next = node_2\n",
        "node_2.next = node_3\n",
        "node_3.next = node_4\n",
        "node_4.next = node_5\n",
        "node_5.next = node_6\n",
        "node_6.next = node_7\n",
        "node_7.next = row2.head"
      ],
      "metadata": {
        "id": "YoxWoONa2b22"
      },
      "execution_count": null,
      "outputs": []
    },
    {
      "cell_type": "code",
      "source": [
        "row2.traverse(row2.head)"
      ],
      "metadata": {
        "colab": {
          "base_uri": "https://localhost:8080/"
        },
        "id": "zoKx1i802h9F",
        "outputId": "c61c2f9d-0557-4ec5-a6b4-bc2e943538cc"
      },
      "execution_count": null,
      "outputs": [
        {
          "output_type": "stream",
          "name": "stdout",
          "text": [
            "Gerick -> Franze -> Allen -> Gian -> Blix -> Tati -> Jerico -> "
          ]
        }
      ]
    }
  ],
  "metadata": {
    "kernelspec": {
      "display_name": "Python 3",
      "language": "python",
      "name": "python3"
    },
    "language_info": {
      "name": "python",
      "version": "3.11.4"
    },
    "orig_nbformat": 4,
    "colab": {
      "provenance": [],
      "include_colab_link": true
    }
  },
  "nbformat": 4,
  "nbformat_minor": 0
}