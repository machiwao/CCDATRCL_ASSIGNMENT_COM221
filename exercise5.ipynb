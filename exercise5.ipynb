{
  "cells": [
    {
      "cell_type": "markdown",
      "metadata": {
        "id": "view-in-github",
        "colab_type": "text"
      },
      "source": [
        "<a href=\"https://colab.research.google.com/github/machiwao/CCDATRCL_ASSIGNMENT_COM221/blob/main/exercise5.ipynb\" target=\"_parent\"><img src=\"https://colab.research.google.com/assets/colab-badge.svg\" alt=\"Open In Colab\"/></a>"
      ]
    },
    {
      "cell_type": "markdown",
      "metadata": {
        "id": "n-d9Ox3QBVWN"
      },
      "source": [
        "# Exercise 5"
      ]
    },
    {
      "cell_type": "markdown",
      "metadata": {
        "id": "DB9jO3P8BVWU"
      },
      "source": [
        "#### 1. Create a dictionary of your 10 favorite songs."
      ]
    },
    {
      "cell_type": "markdown",
      "metadata": {
        "id": "JI1OiKK7BVWW"
      },
      "source": [
        "Example:\n",
        "\n",
        "|KEY|VALUE|\n",
        "|---|---|\n",
        "|001|My Love|\n",
        "|002|Like a rose|"
      ]
    },
    {
      "cell_type": "code",
      "execution_count": 16,
      "metadata": {
        "id": "dC9fw2c2BVWY"
      },
      "outputs": [],
      "source": [
        "# put your answer here\n",
        "fave_songs = {\n",
        "    \"001\" : \"Tuliro\",\n",
        "    \"002\" : \"Blue Sky\",\n",
        "    \"003\" : \"Rainbow\",\n",
        "    \"004\" : \"Back to Me\",\n",
        "    \"005\" : \"Orasa\",\n",
        "    \"006\" : \"Toyang\",\n",
        "    \"007\" : \"Sansinukob\",\n",
        "    \"008\" : \"Pahintulot\",\n",
        "    \"009\" : \"Tatsulok\",\n",
        "    \"010\" : \"214\"\n",
        "}"
      ]
    },
    {
      "cell_type": "markdown",
      "metadata": {
        "id": "LfWKFc7XBVWb"
      },
      "source": [
        "#### 2. Loop through the dictionary by its **key** and **value**"
      ]
    },
    {
      "cell_type": "code",
      "execution_count": 17,
      "metadata": {
        "id": "0luIv4tIBVWd",
        "colab": {
          "base_uri": "https://localhost:8080/"
        },
        "outputId": "59539471-da98-43fd-e9b7-cc7c0a27f458"
      },
      "outputs": [
        {
          "output_type": "stream",
          "name": "stdout",
          "text": [
            "001 Tuliro\n",
            "002 Blue Sky\n",
            "003 Rainbow\n",
            "004 Back to Me\n",
            "005 Orasa\n",
            "006 Toyang\n",
            "007 Sansinukob\n",
            "008 Pahintulot\n",
            "009 Tatsulok\n",
            "010 214\n"
          ]
        }
      ],
      "source": [
        "# put your answer here\n",
        "for x, y in fave_songs.items():\n",
        "    print(x, y)"
      ]
    },
    {
      "cell_type": "markdown",
      "metadata": {
        "id": "L9fVMdqkBVWe"
      },
      "source": [
        "#### 3. Add one additional song"
      ]
    },
    {
      "cell_type": "code",
      "execution_count": 18,
      "metadata": {
        "id": "7RsDh-JfBVWf",
        "colab": {
          "base_uri": "https://localhost:8080/"
        },
        "outputId": "f8eadb4a-6a69-4312-eaae-4220b5a7b15f"
      },
      "outputs": [
        {
          "output_type": "execute_result",
          "data": {
            "text/plain": [
              "{'001': 'Tuliro',\n",
              " '002': 'Blue Sky',\n",
              " '003': 'Rainbow',\n",
              " '004': 'Back to Me',\n",
              " '005': 'Orasa',\n",
              " '006': 'Toyang',\n",
              " '007': 'Sansinukob',\n",
              " '008': 'Pahintulot',\n",
              " '009': 'Tatsulok',\n",
              " '010': '214',\n",
              " '011': 'Hanggang Kailan'}"
            ]
          },
          "metadata": {},
          "execution_count": 18
        }
      ],
      "source": [
        "# put your answer here\n",
        "fave_songs.update({\"011\": \"Hanggang Kailan\"})\n",
        "fave_songs"
      ]
    },
    {
      "cell_type": "markdown",
      "metadata": {
        "id": "6aNr0q-PBVWh"
      },
      "source": [
        "#### 4. Remove one song"
      ]
    },
    {
      "cell_type": "code",
      "execution_count": 19,
      "metadata": {
        "id": "BABH7PmtBVWi",
        "colab": {
          "base_uri": "https://localhost:8080/"
        },
        "outputId": "87956819-9144-4d10-a0ae-d17f82ac8d81"
      },
      "outputs": [
        {
          "output_type": "execute_result",
          "data": {
            "text/plain": [
              "{'001': 'Tuliro',\n",
              " '002': 'Blue Sky',\n",
              " '003': 'Rainbow',\n",
              " '004': 'Back to Me',\n",
              " '005': 'Orasa',\n",
              " '006': 'Toyang',\n",
              " '008': 'Pahintulot',\n",
              " '009': 'Tatsulok',\n",
              " '010': '214',\n",
              " '011': 'Hanggang Kailan'}"
            ]
          },
          "metadata": {},
          "execution_count": 19
        }
      ],
      "source": [
        "# put your answer here\n",
        "fave_songs.pop(\"007\")\n",
        "fave_songs"
      ]
    },
    {
      "cell_type": "markdown",
      "metadata": {
        "id": "J9wN4vGGBVWi"
      },
      "source": [
        "#### 5. Create a nested dictionary of your 10 favorite songs with 5 genres. Display all of the items of the nested dictionary\n",
        "\n",
        "- Each nested dictionary's key should be the genre of the song\n",
        "- Put each song in their respective genre"
      ]
    },
    {
      "cell_type": "markdown",
      "metadata": {
        "id": "YSiPLJTLBVWj"
      },
      "source": [
        "Example:\n",
        "\n",
        "\n",
        "|KEY|VALUE|\n",
        "|---|---|\n",
        "|Pop|{001, Baby}|\n",
        "|Rock|{001, Enter Sandman}|"
      ]
    },
    {
      "cell_type": "code",
      "execution_count": 20,
      "metadata": {
        "id": "cEnTRIQJBVWj",
        "colab": {
          "base_uri": "https://localhost:8080/"
        },
        "outputId": "49dbbf57-839f-4a74-a3fd-8e72da1bb7f7"
      },
      "outputs": [
        {
          "output_type": "execute_result",
          "data": {
            "text/plain": [
              "{'Rap': {1: 'Rap God', 2: 'Mockingbird'},\n",
              " 'OPM': {1: 'Rainbow', 2: 'Toyang'},\n",
              " 'RnB': {1: 'Japanese Denim', 2: 'Godspeed'},\n",
              " 'Rock': {1: 'Monster', 2: 'Hero'},\n",
              " 'Country': {1: 'Country Roads', 2: \"In Case You Didn't Know\"}}"
            ]
          },
          "metadata": {},
          "execution_count": 20
        }
      ],
      "source": [
        "# put your answer here\n",
        "fave_songs_by_genre = {\n",
        "    \"Rap\" : {\n",
        "        1 : \"Rap God\",\n",
        "        2 : \"Mockingbird\"\n",
        "    },\n",
        "    \"OPM\" : {\n",
        "        1 : \"Rainbow\",\n",
        "        2 : \"Toyang\"\n",
        "    },\n",
        "    \"RnB\" : {\n",
        "        1 : \"Japanese Denim\",\n",
        "        2 : \"Godspeed\"\n",
        "    },\n",
        "    \"Rock\" : {\n",
        "        1 : \"Monster\",\n",
        "        2 : \"Hero\"\n",
        "    },\n",
        "    \"Country\" : {\n",
        "        1 : \"Country Roads\",\n",
        "        2 : \"In Case You Didn't Know\"\n",
        "    }\n",
        "}\n",
        "fave_songs_by_genre"
      ]
    },
    {
      "cell_type": "markdown",
      "metadata": {
        "id": "C3Dp-aBQBVWk"
      },
      "source": [
        "#### 6. Print the first song of the first genre"
      ]
    },
    {
      "cell_type": "code",
      "execution_count": 21,
      "metadata": {
        "id": "PVnDNAjoBVWk",
        "colab": {
          "base_uri": "https://localhost:8080/"
        },
        "outputId": "68d7892f-a67d-4c3b-b191-92edf507fb75"
      },
      "outputs": [
        {
          "output_type": "stream",
          "name": "stdout",
          "text": [
            "Rap God\n"
          ]
        }
      ],
      "source": [
        "# put your answer here\n",
        "print(fave_songs_by_genre[\"Rap\"][1])"
      ]
    },
    {
      "cell_type": "markdown",
      "metadata": {
        "id": "AiVVXFOTBVWl"
      },
      "source": [
        "#### 7. Print the first song of the last genre"
      ]
    },
    {
      "cell_type": "code",
      "execution_count": 22,
      "metadata": {
        "id": "HHto2f10BVWl",
        "colab": {
          "base_uri": "https://localhost:8080/"
        },
        "outputId": "b6fbcdb5-6f62-49d8-bcbb-c9c5a931405c"
      },
      "outputs": [
        {
          "output_type": "stream",
          "name": "stdout",
          "text": [
            "Country Roads\n"
          ]
        }
      ],
      "source": [
        "# put your answer here\n",
        "print(fave_songs_by_genre[\"Country\"][1])"
      ]
    }
  ],
  "metadata": {
    "kernelspec": {
      "display_name": "Python 3",
      "language": "python",
      "name": "python3"
    },
    "language_info": {
      "codemirror_mode": {
        "name": "ipython",
        "version": 3
      },
      "file_extension": ".py",
      "mimetype": "text/x-python",
      "name": "python",
      "nbconvert_exporter": "python",
      "pygments_lexer": "ipython3",
      "version": "3.11.4"
    },
    "orig_nbformat": 4,
    "colab": {
      "provenance": [],
      "include_colab_link": true
    }
  },
  "nbformat": 4,
  "nbformat_minor": 0
}