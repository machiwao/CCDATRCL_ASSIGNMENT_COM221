{
  "cells": [
    {
      "cell_type": "markdown",
      "metadata": {
        "id": "view-in-github",
        "colab_type": "text"
      },
      "source": [
        "<a href=\"https://colab.research.google.com/github/machiwao/CCDATRCL_ASSIGNMENT_COM221/blob/main/exercise7.ipynb\" target=\"_parent\"><img src=\"https://colab.research.google.com/assets/colab-badge.svg\" alt=\"Open In Colab\"/></a>"
      ]
    },
    {
      "cell_type": "markdown",
      "metadata": {
        "id": "e3Ja3uozAJlw"
      },
      "source": [
        "# Exercise 7"
      ]
    },
    {
      "cell_type": "code",
      "execution_count": 10,
      "metadata": {
        "id": "IW6uTwU8AJly"
      },
      "outputs": [],
      "source": [
        "class Node:\n",
        "    def __init__(self, item):\n",
        "        self.left = None\n",
        "        self.right = None\n",
        "        self.val = item"
      ]
    },
    {
      "cell_type": "code",
      "execution_count": 11,
      "metadata": {
        "id": "uxVFuimIAJlz"
      },
      "outputs": [],
      "source": [
        "def evaluateExpressionTree(root):\n",
        "\n",
        "    # empty tree\n",
        "    if root is None:\n",
        "        return 0\n",
        "\n",
        "    # leaf node\n",
        "    if root.left is None and root.right is None:\n",
        "        return int(root.val)\n",
        "\n",
        "    # evaluate left tree\n",
        "    left_sum = evaluateExpressionTree(root.left)\n",
        "\n",
        "    # evaluate right tree\n",
        "    right_sum = evaluateExpressionTree(root.right)\n",
        "\n",
        "    # check which operation to apply\n",
        "    if root.val == '+':\n",
        "        return left_sum + right_sum\n",
        "\n",
        "    elif root.val == '-':\n",
        "        return left_sum - right_sum\n",
        "\n",
        "    elif root.val == '*':\n",
        "        return left_sum * right_sum\n",
        "\n",
        "    else:\n",
        "        return left_sum / right_sum"
      ]
    },
    {
      "cell_type": "code",
      "execution_count": 12,
      "metadata": {
        "id": "-xWZXA-mAJl0"
      },
      "outputs": [],
      "source": [
        "def inorder(root):\n",
        "\n",
        "    if root:\n",
        "        # Traverse left\n",
        "        inorder(root.left)\n",
        "        # Traverse root\n",
        "        print(str(root.val) + \"->\", end='')\n",
        "        # Traverse right\n",
        "        inorder(root.right)"
      ]
    },
    {
      "cell_type": "markdown",
      "metadata": {
        "id": "CVtqxh5DAJl1"
      },
      "source": [
        "#### 1. Construct a binary expression tree\n",
        "\n",
        "\n",
        "- Use the evaluateExpressionTree method to get the result of the expression\n",
        "- Use the inorder method to traverse the tree  \n",
        "\n",
        "$$ (8 + 4) * (7 - 9) $$"
      ]
    },
    {
      "cell_type": "code",
      "execution_count": 13,
      "metadata": {
        "id": "CxpP0zcVAJl1",
        "outputId": "6d225f83-16ee-445b-da4a-51aad854f69e",
        "colab": {
          "base_uri": "https://localhost:8080/"
        }
      },
      "outputs": [
        {
          "output_type": "stream",
          "name": "stdout",
          "text": [
            "-24\n",
            "8->+->4->*->7->-->9->"
          ]
        }
      ],
      "source": [
        "# put your answer here\n",
        "root = Node(\"*\")\n",
        "root.left = Node(\"+\")\n",
        "root.left.left = Node(8)\n",
        "root.left.right = Node(4)\n",
        "root.right = Node(\"-\")\n",
        "root.right.left = Node(7)\n",
        "root.right.right = Node(9)\n",
        "\n",
        "print(evaluateExpressionTree(root))\n",
        "inorder(root)"
      ]
    },
    {
      "cell_type": "markdown",
      "metadata": {
        "id": "jc5KHLk6AJl2"
      },
      "source": [
        "#### 2. Construct a binary expression tree\n",
        "\n",
        "- Use the evaluateExpressionTree method to get the result of the expression\n",
        "- Use the inorder method to traverse the tree  \n",
        "\n",
        "$$ 5 / 8 + 3 - 6 * 1 $$"
      ]
    },
    {
      "cell_type": "code",
      "execution_count": 14,
      "metadata": {
        "id": "XORzqkC3AJl2",
        "outputId": "d4cd37fe-8f24-47cc-94e2-f80f09f4a48e",
        "colab": {
          "base_uri": "https://localhost:8080/"
        }
      },
      "outputs": [
        {
          "output_type": "stream",
          "name": "stdout",
          "text": [
            "-2.375\n",
            "5->/->8->+->3->-->6->*->1->"
          ]
        }
      ],
      "source": [
        "# put your answer here\n",
        "root = Node(\"-\")\n",
        "root.left = Node(\"+\")\n",
        "root.left.left = Node(\"/\")\n",
        "root.left.right = Node(3)\n",
        "root.left.left.left = Node(5)\n",
        "root.left.left.right = Node(8)\n",
        "root.right = Node(\"*\")\n",
        "root.right.left = Node(6)\n",
        "root.right.right = Node(1)\n",
        "\n",
        "print(evaluateExpressionTree(root))\n",
        "inorder(root)"
      ]
    },
    {
      "cell_type": "markdown",
      "metadata": {
        "id": "tu3n5ZdWAJl2"
      },
      "source": [
        "#### 3. Construct a binary expression tree\n",
        "\n",
        "- Use the evaluateExpressionTree method to get the result of the expression\n",
        "- Use the inorder method to traverse the tree  \n",
        "\n",
        "$$ ((2 + 5) / 3)- (3 + 8) $$"
      ]
    },
    {
      "cell_type": "code",
      "execution_count": 15,
      "metadata": {
        "id": "5GvZBxgtAJl3",
        "outputId": "c9bdbecd-a1aa-40aa-e5f3-115bfb75060e",
        "colab": {
          "base_uri": "https://localhost:8080/"
        }
      },
      "outputs": [
        {
          "output_type": "stream",
          "name": "stdout",
          "text": [
            "-8.666666666666666\n",
            "2->+->5->/->3->-->3->+->8->"
          ]
        }
      ],
      "source": [
        "# put your answer here\n",
        "root = Node(\"-\")\n",
        "root.left = Node(\"/\")\n",
        "root.left.left = Node(\"+\")\n",
        "root.left.right = Node(3)\n",
        "root.left.left.left = Node(2)\n",
        "root.left.left.right = Node(5)\n",
        "root.right = Node(\"+\")\n",
        "root.right.left = Node(3)\n",
        "root.right.right = Node(8)\n",
        "\n",
        "print(evaluateExpressionTree(root))\n",
        "inorder(root)"
      ]
    }
  ],
  "metadata": {
    "kernelspec": {
      "display_name": "Python 3",
      "language": "python",
      "name": "python3"
    },
    "language_info": {
      "codemirror_mode": {
        "name": "ipython",
        "version": 3
      },
      "file_extension": ".py",
      "mimetype": "text/x-python",
      "name": "python",
      "nbconvert_exporter": "python",
      "pygments_lexer": "ipython3",
      "version": "3.11.4"
    },
    "orig_nbformat": 4,
    "colab": {
      "provenance": [],
      "include_colab_link": true
    }
  },
  "nbformat": 4,
  "nbformat_minor": 0
}